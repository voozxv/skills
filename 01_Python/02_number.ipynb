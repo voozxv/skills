{
 "cells": [
  {
   "cell_type": "markdown",
   "metadata": {
    "id": "laWjVFPZrZgq"
   },
   "source": [
    "# 02. number (숫자형)\n",
    "---"
   ]
  },
  {
   "cell_type": "markdown",
   "metadata": {
    "id": "2fqRBJZeuTL9"
   },
   "source": [
    "## **[1] 숫자형이란?**\n",
    "- 정수형 (int): 소수점이 존재하지 않는 숫자 (양수, 음수, 0)\n",
    "- 실수형 (float): 소수점이 존재하는 숫자 (3.14, -3.14, 10e3)"
   ]
  },
  {
   "cell_type": "code",
   "execution_count": 1,
   "metadata": {
    "colab": {
     "base_uri": "https://localhost:8080/"
    },
    "executionInfo": {
     "elapsed": 3,
     "status": "ok",
     "timestamp": 1686122204948,
     "user": {
      "displayName": "Su hyoun Hwang",
      "userId": "18251724136768394181"
     },
     "user_tz": -540
    },
    "id": "q73oc099rcro",
    "outputId": "a63a23c4-5413-4df0-e090-db1f37469d18"
   },
   "outputs": [
    {
     "data": {
      "text/plain": [
       "int"
      ]
     },
     "execution_count": 1,
     "metadata": {},
     "output_type": "execute_result"
    }
   ],
   "source": [
    "n_int = 123\n",
    "type(n_int)"
   ]
  },
  {
   "cell_type": "code",
   "execution_count": 2,
   "metadata": {},
   "outputs": [
    {
     "data": {
      "text/plain": [
       "float"
      ]
     },
     "execution_count": 2,
     "metadata": {},
     "output_type": "execute_result"
    }
   ],
   "source": [
    "n_float = 3.14\n",
    "type(n_float)"
   ]
  },
  {
   "cell_type": "code",
   "execution_count": 3,
   "metadata": {},
   "outputs": [
    {
     "name": "stdout",
     "output_type": "stream",
     "text": [
      "형변환 전 n_int:  <class 'int'>\n",
      "형변환 후 n_int:  <class 'float'> \n",
      "\n",
      "형변환 전 n_float:  <class 'float'>\n",
      "형변환 후 n_float:  <class 'int'>\n"
     ]
    }
   ],
   "source": [
    "# 형변환 가능\n",
    "print('형변환 전 n_int: ', type(n_int))\n",
    "n_int = float(n_int)\n",
    "print('형변환 후 n_int: ', type(n_int), '\\n')\n",
    "\n",
    "print('형변환 전 n_float: ', type(n_float))\n",
    "n_float = int(n_float)\n",
    "print('형변환 후 n_float: ', type(n_float))"
   ]
  },
  {
   "cell_type": "markdown",
   "metadata": {
    "id": "BPd1SrX4uKdU"
   },
   "source": [
    "## **[2] 산술 연산자**"
   ]
  },
  {
   "cell_type": "markdown",
   "metadata": {},
   "source": [
    "| 연산자 | 설명 | 예시 | 결과 |\n",
    "| --- | --- | --- | --- |\n",
    "| `+` | 더하기 | `5 + 3` | `8` |\n",
    "| `-` | 빼기 | `5 - 3` | `2` |\n",
    "| `*` | 곱하기 | `5 * 3` | `15` |\n",
    "| `/` | 나누기 | `5 / 2` | `2.5` |\n",
    "| `**` | 제곱 | `2 ** 3` | `8(2^3)` |\n",
    "| `%` | 나머지 | `5 % 2` | `1` |\n",
    "| `//` | 몫 | `5 // 2` | `2` |"
   ]
  },
  {
   "cell_type": "code",
   "execution_count": 4,
   "metadata": {
    "colab": {
     "base_uri": "https://localhost:8080/"
    },
    "executionInfo": {
     "elapsed": 326,
     "status": "ok",
     "timestamp": 1686123991058,
     "user": {
      "displayName": "Su hyoun Hwang",
      "userId": "18251724136768394181"
     },
     "user_tz": -540
    },
    "id": "WoJ3-PyeuB4s",
    "outputId": "5331f25f-3e55-4249-b832-49a8dd431d92"
   },
   "outputs": [
    {
     "name": "stdout",
     "output_type": "stream",
     "text": [
      "7\n",
      "-1\n",
      "12\n",
      "0.75\n",
      "81\n",
      "3\n",
      "0\n"
     ]
    }
   ],
   "source": [
    "a = 3\n",
    "b = 4\n",
    "print(a + b)\n",
    "print(a - b)\n",
    "print(a * b)\n",
    "print(a / b)\n",
    "print(a ** b)\n",
    "print(a % b)\n",
    "print(a // b)"
   ]
  },
  {
   "cell_type": "markdown",
   "metadata": {
    "id": "FhpPz-tn1cKo"
   },
   "source": [
    "## **[3] 주요 함수**\n",
    "1. 숫자 생성: `range`\n",
    "2. 합, 최댓값, 최솟값: `sum`, `max`, `min`\n",
    "3. 절댓값: `abs`\n",
    "4. 제곱근: `sqrt`\n",
    "5. 반올림: `round`, `math.ceil`, `math.floor`\n",
    "6. 랜덤 난수 생성: `math.random`, `math.randrange`, `math.randint`"
   ]
  },
  {
   "cell_type": "markdown",
   "metadata": {},
   "source": [
    "### **1. 숫자 생성**\n",
    "### **`range(start, stop, step)`**\n",
    "- start: 시작 값 (포함)\n",
    "- stop: 종료 값 (미포함)\n",
    "- step: 간격 (기본값: 1)"
   ]
  },
  {
   "cell_type": "code",
   "execution_count": 5,
   "metadata": {},
   "outputs": [
    {
     "data": {
      "text/plain": [
       "[1, 2, 3, 4, 5, 6, 7, 8, 9, 10]"
      ]
     },
     "execution_count": 5,
     "metadata": {},
     "output_type": "execute_result"
    }
   ],
   "source": [
    "# 1 ~ 10 생성\n",
    "num = range(1, 11)\n",
    "list(num)"
   ]
  },
  {
   "cell_type": "code",
   "execution_count": 6,
   "metadata": {},
   "outputs": [
    {
     "data": {
      "text/plain": [
       "[1, 3, 5, 7, 9]"
      ]
     },
     "execution_count": 6,
     "metadata": {},
     "output_type": "execute_result"
    }
   ],
   "source": [
    "# 1 ~ 10 간격을 2씩두고 생성\n",
    "num = range(1, 11, 2)\n",
    "list(num)"
   ]
  },
  {
   "cell_type": "markdown",
   "metadata": {},
   "source": [
    "### **2. 합, 최댓값, 최솟값**\n",
    "### **`sum(iter)`, `max(iter)`, `min(iter)`**\n",
    "- iter: 리스트, 튜플 등 반복 가능한 객체"
   ]
  },
  {
   "cell_type": "code",
   "execution_count": 7,
   "metadata": {},
   "outputs": [
    {
     "name": "stdout",
     "output_type": "stream",
     "text": [
      "[10, 5, 20, 15]\n",
      "합:  50\n",
      "최댓값:  20\n",
      "최솟값:  5\n"
     ]
    }
   ],
   "source": [
    "num = [10, 5, 20, 15]\n",
    "print(num)\n",
    "\n",
    "print('합: ', sum(num))\n",
    "print('최댓값: ', max(num))\n",
    "print('최솟값: ', min(num))"
   ]
  },
  {
   "cell_type": "markdown",
   "metadata": {},
   "source": [
    "### **3. 절댓값**\n",
    "### **`abs(x)`**\n",
    "- x: 값을 구할 숫자"
   ]
  },
  {
   "cell_type": "code",
   "execution_count": 8,
   "metadata": {},
   "outputs": [
    {
     "name": "stdout",
     "output_type": "stream",
     "text": [
      "10\n",
      "10\n"
     ]
    }
   ],
   "source": [
    "print(abs(10))\n",
    "print(abs(-10))"
   ]
  },
  {
   "cell_type": "markdown",
   "metadata": {},
   "source": [
    "### **4. 제곱근**\n",
    "### **`sqrt(x)`**\n",
    "- x: 값을 구할 숫자"
   ]
  },
  {
   "cell_type": "code",
   "execution_count": 9,
   "metadata": {},
   "outputs": [
    {
     "name": "stdout",
     "output_type": "stream",
     "text": [
      "3.0\n",
      "4.0\n"
     ]
    }
   ],
   "source": [
    "from math import *\n",
    "print(sqrt(9))\n",
    "print(sqrt(16))"
   ]
  },
  {
   "cell_type": "markdown",
   "metadata": {},
   "source": [
    "### **5. 반올림**\n",
    "### **`round(num, x)`**\n",
    "- num: 실수\n",
    "- x: 소수점 자릿수 (기본값: 0)"
   ]
  },
  {
   "cell_type": "code",
   "execution_count": 10,
   "metadata": {},
   "outputs": [
    {
     "name": "stdout",
     "output_type": "stream",
     "text": [
      "3.1:  3\n",
      "3.6:  4\n"
     ]
    }
   ],
   "source": [
    "print('3.1: ', round(3.1))\n",
    "print('3.6: ', round(3.6))"
   ]
  },
  {
   "cell_type": "code",
   "execution_count": 11,
   "metadata": {},
   "outputs": [
    {
     "name": "stdout",
     "output_type": "stream",
     "text": [
      "3.14159:  3.14\n"
     ]
    }
   ],
   "source": [
    "# 소수점 자릿수 처리\n",
    "print('3.14159: ', round(3.14159, 2))"
   ]
  },
  {
   "cell_type": "markdown",
   "metadata": {},
   "source": [
    "### **`ceil(num)`**\n",
    "- num: 실수\n",
    "- 무조건 올림하여 가장 가까운 정수로 반환"
   ]
  },
  {
   "cell_type": "code",
   "execution_count": 12,
   "metadata": {},
   "outputs": [
    {
     "name": "stdout",
     "output_type": "stream",
     "text": [
      "3.1:  4\n"
     ]
    }
   ],
   "source": [
    "from math import *\n",
    "print('3.1: ', ceil(3.1))"
   ]
  },
  {
   "cell_type": "markdown",
   "metadata": {},
   "source": [
    "### **`floor(num)`**\n",
    "- num: 실수\n",
    "- 무조건 버림하여 가장 가까운 정수로 반환"
   ]
  },
  {
   "cell_type": "code",
   "execution_count": 13,
   "metadata": {},
   "outputs": [
    {
     "name": "stdout",
     "output_type": "stream",
     "text": [
      "3.9:  3\n"
     ]
    }
   ],
   "source": [
    "print('3.9: ', floor(3.9))"
   ]
  },
  {
   "cell_type": "markdown",
   "metadata": {},
   "source": [
    "### **6. 랜덤 난수 생성**\n",
    "### **`random()`**\n",
    "- 0.0 ~ 1.0 미만의 임의의 값 생성"
   ]
  },
  {
   "cell_type": "code",
   "execution_count": 14,
   "metadata": {},
   "outputs": [
    {
     "data": {
      "text/plain": [
       "0.05260064103615136"
      ]
     },
     "execution_count": 14,
     "metadata": {},
     "output_type": "execute_result"
    }
   ],
   "source": [
    "# 0 ~ 1 미만의 랜덤 실수 생성\n",
    "from random import *\n",
    "random()"
   ]
  },
  {
   "cell_type": "code",
   "execution_count": 15,
   "metadata": {},
   "outputs": [
    {
     "data": {
      "text/plain": [
       "9"
      ]
     },
     "execution_count": 15,
     "metadata": {},
     "output_type": "execute_result"
    }
   ],
   "source": [
    "# 1 ~ 10 이하의 랜덤 정수 생성\n",
    "int(random() * 10) + 1"
   ]
  },
  {
   "cell_type": "markdown",
   "metadata": {},
   "source": [
    "### **`randrange(start, stop, step)`**\n",
    "- start: 시작 값 (포함)\n",
    "- stop: 종료 값 (<u>미포함</u>)\n",
    "- step: 간격 (기본값: 1)"
   ]
  },
  {
   "cell_type": "code",
   "execution_count": 16,
   "metadata": {},
   "outputs": [
    {
     "data": {
      "text/plain": [
       "44"
      ]
     },
     "execution_count": 16,
     "metadata": {},
     "output_type": "execute_result"
    }
   ],
   "source": [
    "# 1 ~ 99 이하의 정수 생성\n",
    "randrange(1, 100)"
   ]
  },
  {
   "cell_type": "markdown",
   "metadata": {},
   "source": [
    "### **`randint(a, b)`**\n",
    "- a: 시작 값 (포함)\n",
    "- b: 종료 값 (포함)\n",
    "- <span style=color:red;>**랜덤 난수 생성 방식 중 가장 직관적**</span>"
   ]
  },
  {
   "cell_type": "code",
   "execution_count": 17,
   "metadata": {},
   "outputs": [
    {
     "data": {
      "text/plain": [
       "13"
      ]
     },
     "execution_count": 17,
     "metadata": {},
     "output_type": "execute_result"
    }
   ],
   "source": [
    "# 1 ~ 100 이하의 정수 생성\n",
    "randint(1, 100)"
   ]
  }
 ],
 "metadata": {
  "colab": {
   "collapsed_sections": [
    "Th6osWwByzGs",
    "l6Xtaz3IzLPX",
    "ugASEjmk02o-",
    "wHBryZOg1YbU"
   ],
   "provenance": []
  },
  "kernelspec": {
   "display_name": ".venv",
   "language": "python",
   "name": "python3"
  },
  "language_info": {
   "codemirror_mode": {
    "name": "ipython",
    "version": 3
   },
   "file_extension": ".py",
   "mimetype": "text/x-python",
   "name": "python",
   "nbconvert_exporter": "python",
   "pygments_lexer": "ipython3",
   "version": "3.13.5"
  }
 },
 "nbformat": 4,
 "nbformat_minor": 4
}
