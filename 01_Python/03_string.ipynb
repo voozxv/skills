{
 "cells": [
  {
   "cell_type": "markdown",
   "id": "7dde1d4e",
   "metadata": {
    "id": "7dde1d4e"
   },
   "source": [
    "# 03. string (문자형)\n",
    "---"
   ]
  },
  {
   "cell_type": "markdown",
   "id": "ddf20083",
   "metadata": {
    "id": "ddf20083"
   },
   "source": [
    "## **[1] 문자형이란?**\n",
    "- 문자 형태로 이루어진 자료형\n",
    "- `'`, `\"` 따옴표로 묶어서 표현"
   ]
  },
  {
   "cell_type": "code",
   "execution_count": 1,
   "id": "63c6e701",
   "metadata": {
    "colab": {
     "base_uri": "https://localhost:8080/"
    },
    "executionInfo": {
     "elapsed": 2,
     "status": "ok",
     "timestamp": 1745285918439,
     "user": {
      "displayName": "Kim InSeop",
      "userId": "13965062148001194946"
     },
     "user_tz": -540
    },
    "id": "63c6e701",
    "outputId": "ca4a4d74-8f50-4e50-b3f2-a5f20adf54d9"
   },
   "outputs": [
    {
     "data": {
      "text/plain": [
       "str"
      ]
     },
     "execution_count": 1,
     "metadata": {},
     "output_type": "execute_result"
    }
   ],
   "source": [
    "text = '1'\n",
    "type(text)"
   ]
  },
  {
   "cell_type": "code",
   "execution_count": 2,
   "id": "33369ee1",
   "metadata": {
    "colab": {
     "base_uri": "https://localhost:8080/"
    },
    "executionInfo": {
     "elapsed": 7,
     "status": "ok",
     "timestamp": 1745285951938,
     "user": {
      "displayName": "Kim InSeop",
      "userId": "13965062148001194946"
     },
     "user_tz": -540
    },
    "id": "33369ee1",
    "outputId": "fb942321-6758-4f1a-e337-2beeee7015a1"
   },
   "outputs": [
    {
     "data": {
      "text/plain": [
       "('blue', 'red')"
      ]
     },
     "execution_count": 2,
     "metadata": {},
     "output_type": "execute_result"
    }
   ],
   "source": [
    "# 생성\n",
    "text_blue = 'blue'\n",
    "text_red = 'red'\n",
    "\n",
    "text_blue, text_red"
   ]
  },
  {
   "cell_type": "code",
   "execution_count": 3,
   "id": "5b040e6e-3795-4219-bfff-5f225a13a1ef",
   "metadata": {},
   "outputs": [
    {
     "name": "stdout",
     "output_type": "stream",
     "text": [
      "blue\n",
      "red\n",
      "\n",
      "blue\n",
      "red\n"
     ]
    }
   ],
   "source": [
    "# 줄바꿈\n",
    "color = '''blue\n",
    "red\n",
    "'''\n",
    "print(color)\n",
    "\n",
    "# 개행문자 '\\n'\n",
    "color = 'blue\\nred'\n",
    "print(color)"
   ]
  },
  {
   "cell_type": "code",
   "execution_count": 4,
   "id": "66dcbc84",
   "metadata": {
    "colab": {
     "base_uri": "https://localhost:8080/"
    },
    "executionInfo": {
     "elapsed": 10,
     "status": "ok",
     "timestamp": 1744085815914,
     "user": {
      "displayName": "Kim InSeop",
      "userId": "13965062148001194946"
     },
     "user_tz": -540
    },
    "id": "66dcbc84",
    "outputId": "b3d7327d-26c7-4bdc-b6a5-2b8ff5d9992f"
   },
   "outputs": [
    {
     "data": {
      "text/plain": [
       "'bluered'"
      ]
     },
     "execution_count": 4,
     "metadata": {},
     "output_type": "execute_result"
    }
   ],
   "source": [
    "# 문자열 결합\n",
    "color = text_blue + text_red\n",
    "color"
   ]
  },
  {
   "cell_type": "code",
   "execution_count": 5,
   "id": "196c6353",
   "metadata": {
    "id": "196c6353"
   },
   "outputs": [
    {
     "data": {
      "text/plain": [
       "'blueblueblue'"
      ]
     },
     "execution_count": 5,
     "metadata": {},
     "output_type": "execute_result"
    }
   ],
   "source": [
    "# 반복\n",
    "text_blue * 3"
   ]
  },
  {
   "cell_type": "markdown",
   "id": "587fe2f9",
   "metadata": {
    "id": "587fe2f9"
   },
   "source": [
    "## **[2] 문자열 포맷팅**"
   ]
  },
  {
   "cell_type": "markdown",
   "id": "b33b60f7-2cc1-4182-9ed5-9139b17d4175",
   "metadata": {},
   "source": [
    "### **1. `f'{변수명}'`**\n",
    "- 파이썬 3.6 이상부터 지원\n",
    "- 가독성, 편의성이 좋음"
   ]
  },
  {
   "cell_type": "code",
   "execution_count": 1,
   "id": "9498becc-8cfc-4eee-bc95-3542f2d3108b",
   "metadata": {},
   "outputs": [
    {
     "name": "stdout",
     "output_type": "stream",
     "text": [
      "과일: 사과, 가격: 1000원\n"
     ]
    }
   ],
   "source": [
    "fruit = '사과'\n",
    "price = 1000\n",
    "print(f'과일: {fruit}, 가격: {price}원')"
   ]
  },
  {
   "cell_type": "markdown",
   "id": "9807e1fa-f749-4cfa-addb-02a25a72b4fe",
   "metadata": {},
   "source": [
    "### **2. `'{}'.format('변수명')`**"
   ]
  },
  {
   "cell_type": "code",
   "execution_count": 2,
   "id": "b44ac888-760f-47a4-a5a1-7d57f0d45cd1",
   "metadata": {},
   "outputs": [
    {
     "name": "stdout",
     "output_type": "stream",
     "text": [
      "과일: 사과, 가격: 1000원\n"
     ]
    }
   ],
   "source": [
    "print('과일: {}, 가격: {}원'.format(fruit, price))"
   ]
  },
  {
   "cell_type": "code",
   "execution_count": 3,
   "id": "282cce4d-b3b1-413c-ba21-e2abc564eb66",
   "metadata": {},
   "outputs": [
    {
     "name": "stdout",
     "output_type": "stream",
     "text": [
      "가격: 1000원, 과일: 사과\n"
     ]
    }
   ],
   "source": [
    "# {0}, {1}을 사용하여 순서 변경\n",
    "print('가격: {1}원, 과일: {0}'.format(fruit, price))"
   ]
  },
  {
   "cell_type": "markdown",
   "id": "b634d228-bef8-4e43-a561-ea01d4ce0b8e",
   "metadata": {},
   "source": [
    "### **3. `'%서식 지정자' % (변수명)`**\n",
    "- C언어 형식"
   ]
  },
  {
   "cell_type": "code",
   "execution_count": 4,
   "id": "3b545774-47e0-486a-8fab-4ea978862d0f",
   "metadata": {},
   "outputs": [
    {
     "name": "stdout",
     "output_type": "stream",
     "text": [
      "과일: 사과, 가격: 1000원\n"
     ]
    }
   ],
   "source": [
    "print('과일: %s, 가격: %d원' % (fruit, price))"
   ]
  },
  {
   "attachments": {},
   "cell_type": "markdown",
   "id": "b3de9eb5",
   "metadata": {
    "id": "b3de9eb5"
   },
   "source": [
    "## **[3] 문자열 인덱싱**\n",
    "- 문자열을 잘라내는 방법\n",
    "- 대괄호`[]`를 통해 지정\n",
    "- 첫 번째 위치는 `0`, 마지막 위치는 `-1`\n",
    "- 공백도 한칸을 차지함"
   ]
  },
  {
   "cell_type": "code",
   "execution_count": 10,
   "id": "949e72f8",
   "metadata": {
    "colab": {
     "base_uri": "https://localhost:8080/"
    },
    "executionInfo": {
     "elapsed": 10,
     "status": "ok",
     "timestamp": 1744086199087,
     "user": {
      "displayName": "Kim InSeop",
      "userId": "13965062148001194946"
     },
     "user_tz": -540
    },
    "id": "949e72f8",
    "outputId": "52d90ca5-2c7b-467c-cb38-40ed3f9bb102"
   },
   "outputs": [
    {
     "name": "stdout",
     "output_type": "stream",
     "text": [
      "사\n",
      " \n",
      "!\n"
     ]
    }
   ],
   "source": [
    "text = '사과가 천원!'\n",
    "print(text[0])\n",
    "print(text[3])\n",
    "print(text[-1])"
   ]
  },
  {
   "cell_type": "code",
   "execution_count": 11,
   "id": "b80d379b-887c-498f-aa02-71b62e9a715b",
   "metadata": {},
   "outputs": [
    {
     "name": "stdout",
     "output_type": "stream",
     "text": [
      "!원천 가과사\n"
     ]
    }
   ],
   "source": [
    "# 문자열 뒤집어 출력\n",
    "print(text[::-1])"
   ]
  },
  {
   "cell_type": "markdown",
   "id": "aIw1uVsTQrmM",
   "metadata": {
    "id": "aIw1uVsTQrmM"
   },
   "source": [
    "## **[4] 문자열 슬라이싱**\n",
    "### **`문자열[시작:끝]`**\n",
    "- 문자열 일부를 잘라내는 방법\n",
    "- 끝은 포함하지 않음\n",
    "- 시작을 생략하면 처음부터, 끝을 생략하면 마지막까지 슬라이싱함"
   ]
  },
  {
   "cell_type": "code",
   "execution_count": 5,
   "id": "VahTF_j0RzZP",
   "metadata": {
    "colab": {
     "base_uri": "https://localhost:8080/"
    },
    "executionInfo": {
     "elapsed": 12,
     "status": "ok",
     "timestamp": 1744086430177,
     "user": {
      "displayName": "Kim InSeop",
      "userId": "13965062148001194946"
     },
     "user_tz": -540
    },
    "id": "VahTF_j0RzZP",
    "outputId": "a8942904-222b-4fc4-ac15-b8732fdcf749"
   },
   "outputs": [
    {
     "name": "stdout",
     "output_type": "stream",
     "text": [
      "[:4]:  1234\n",
      "[4:6]:  56\n",
      "[6:]:  78\n"
     ]
    }
   ],
   "source": [
    "num = '12345678'\n",
    "print('[:4]: ', num[:4])\n",
    "print('[4:6]: ', num[4:6])\n",
    "print('[6:]: ', num[6:])"
   ]
  },
  {
   "cell_type": "markdown",
   "id": "4fcb0d65",
   "metadata": {
    "id": "4fcb0d65"
   },
   "source": [
    "## **[5] 주요 함수**\n",
    "1. 입력받기: `input`\n",
    "2. 길이 확인: `len`\n",
    "3. 대소문자 변환: `upper`, `lower`\n",
    "4. 문자열 교체: `replace`\n",
    "6. 공백 제거: `strip`, `rstrip`, `lstrip`\n",
    "7. 문자 카운팅: `count`\n",
    "8. 문자 위치 찾기: `index`, `find`\n",
    "9. 연결 문자 삽입: `join`\n",
    "10. 문자열 나누기: `split`\n",
    "11. 문자 포함 여부 확인: `in`, `not in`\n",
    "12. 문자열 시작과 끝 확인: `startswith`, `endswith`"
   ]
  },
  {
   "cell_type": "markdown",
   "id": "41e6d784-5532-41e4-a159-f3da586c14b9",
   "metadata": {},
   "source": [
    "### **1. 입력받기**\n",
    "### **`x = input('a')`**\n",
    "- x: 변수명\n",
    "- a: 띄우고 싶은 메시지"
   ]
  },
  {
   "cell_type": "code",
   "execution_count": 13,
   "id": "44042adb-8b24-4214-8746-e41f89cda24c",
   "metadata": {},
   "outputs": [
    {
     "name": "stdout",
     "output_type": "stream",
     "text": [
      "과일을 입력하세요:  사과\n"
     ]
    }
   ],
   "source": [
    "name = input('과일을 입력하세요: ')"
   ]
  },
  {
   "cell_type": "markdown",
   "id": "2927dbdf",
   "metadata": {
    "id": "2927dbdf"
   },
   "source": [
    "### **2. 길이 확인**\n",
    "### **`len(x)`**\n",
    "- x: 문자열"
   ]
  },
  {
   "cell_type": "code",
   "execution_count": 14,
   "id": "5a945623",
   "metadata": {
    "colab": {
     "base_uri": "https://localhost:8080/"
    },
    "executionInfo": {
     "elapsed": 12,
     "status": "ok",
     "timestamp": 1743575834747,
     "user": {
      "displayName": "Kim InSeop",
      "userId": "13965062148001194946"
     },
     "user_tz": -540
    },
    "id": "5a945623",
    "outputId": "d4867091-d067-46bd-ea02-188914b444cc"
   },
   "outputs": [
    {
     "data": {
      "text/plain": [
       "8"
      ]
     },
     "execution_count": 14,
     "metadata": {},
     "output_type": "execute_result"
    }
   ],
   "source": [
    "text = 'Python !'\n",
    "len(text)"
   ]
  },
  {
   "cell_type": "markdown",
   "id": "43932745",
   "metadata": {
    "id": "43932745"
   },
   "source": [
    "### **3. 대소문자 변환**\n",
    "### **`x.upper()`, `x.lower()`**\n",
    "- x: 문자열"
   ]
  },
  {
   "cell_type": "code",
   "execution_count": 7,
   "id": "c12b7516-0669-4883-ac58-d363891e8d93",
   "metadata": {},
   "outputs": [
    {
     "name": "stdout",
     "output_type": "stream",
     "text": [
      "upeer:  RED APPLE\n",
      "lower:  red apple\n"
     ]
    }
   ],
   "source": [
    "text = 'Red Apple'\n",
    "print('upeer: ', text.upper())\n",
    "print('lower: ', text.lower())"
   ]
  },
  {
   "cell_type": "markdown",
   "id": "b26d4d57",
   "metadata": {
    "id": "b26d4d57"
   },
   "source": [
    "### **4. 문자열 교체**\n",
    "### **`x.replace('a', 'b')`**\n",
    "- x: 문자열\n",
    "- a: 교체 대상 문자열\n",
    "- b: 새로운 문자열"
   ]
  },
  {
   "cell_type": "code",
   "execution_count": 8,
   "id": "38bd18e5",
   "metadata": {
    "id": "38bd18e5"
   },
   "outputs": [
    {
     "name": "stdout",
     "output_type": "stream",
     "text": [
      "원본: 나는 사과가 좋아.\n",
      "변경 후: 나는 바나나가 좋아.\n"
     ]
    }
   ],
   "source": [
    "text = '나는 사과가 좋아.'\n",
    "new_text = text.replace('사과', '바나나')\n",
    "\n",
    "print(f'원본: {text}')\n",
    "print(f'변경 후: {new_text}')"
   ]
  },
  {
   "cell_type": "code",
   "execution_count": 10,
   "id": "j1yfQpOOqj-q",
   "metadata": {
    "colab": {
     "base_uri": "https://localhost:8080/"
    },
    "executionInfo": {
     "elapsed": 6,
     "status": "ok",
     "timestamp": 1744086710739,
     "user": {
      "displayName": "Kim InSeop",
      "userId": "13965062148001194946"
     },
     "user_tz": -540
    },
    "id": "j1yfQpOOqj-q",
    "outputId": "4067f4e6-e971-472f-87b6-97529d1e0483"
   },
   "outputs": [
    {
     "name": "stdout",
     "output_type": "stream",
     "text": [
      "원본:  123,456,789\n",
      "변경 후:  123456789\n"
     ]
    }
   ],
   "source": [
    "# b값이 없으면 a가 제거된다.\n",
    "num = '123,456,789'\n",
    "new_num = num.replace(',', '')\n",
    "\n",
    "print('원본: ', num)\n",
    "print('변경 후: ', new_num)"
   ]
  },
  {
   "cell_type": "markdown",
   "id": "b78dfe1e",
   "metadata": {
    "id": "b78dfe1e"
   },
   "source": [
    "### **5. 공백 제거**\n",
    "### **`x.strip()`, `x.rstrip()`, `x.lstrip()`**\n",
    "- x: 문자열"
   ]
  },
  {
   "cell_type": "code",
   "execution_count": 18,
   "id": "36454fc4",
   "metadata": {
    "colab": {
     "base_uri": "https://localhost:8080/"
    },
    "executionInfo": {
     "elapsed": 248,
     "status": "ok",
     "timestamp": 1737680958295,
     "user": {
      "displayName": "Kim InSeop",
      "userId": "13965062148001194946"
     },
     "user_tz": -540
    },
    "id": "36454fc4",
    "outputId": "9fa73759-9501-4d53-a525-d90c63f8479a"
   },
   "outputs": [
    {
     "data": {
      "text/plain": [
       "'Hello, World!'"
      ]
     },
     "execution_count": 18,
     "metadata": {},
     "output_type": "execute_result"
    }
   ],
   "source": [
    "text = '        Hello, World!        '\n",
    "text.strip()"
   ]
  },
  {
   "cell_type": "code",
   "execution_count": 19,
   "id": "3b8f25e4-647d-4480-8c09-9badef8edcc2",
   "metadata": {},
   "outputs": [
    {
     "data": {
      "text/plain": [
       "'        Hello, World!'"
      ]
     },
     "execution_count": 19,
     "metadata": {},
     "output_type": "execute_result"
    }
   ],
   "source": [
    "text.rstrip()"
   ]
  },
  {
   "cell_type": "code",
   "execution_count": 20,
   "id": "184caa54-875a-40d5-ad9d-ee5d1d7d972d",
   "metadata": {},
   "outputs": [
    {
     "data": {
      "text/plain": [
       "'Hello, World!        '"
      ]
     },
     "execution_count": 20,
     "metadata": {},
     "output_type": "execute_result"
    }
   ],
   "source": [
    "text.lstrip()"
   ]
  },
  {
   "cell_type": "markdown",
   "id": "e5e2592d-dc69-407b-b01f-9ba0d82fbd6a",
   "metadata": {},
   "source": [
    "### **6. 문자 카운팅**\n",
    "### **`x.count('a')`**\n",
    "- x: 문자열\n",
    "- a: 카운팅할 문자"
   ]
  },
  {
   "cell_type": "code",
   "execution_count": 11,
   "id": "957006bd-a65a-425c-af1e-36c08e003b86",
   "metadata": {},
   "outputs": [
    {
     "data": {
      "text/plain": [
       "3"
      ]
     },
     "execution_count": 11,
     "metadata": {},
     "output_type": "execute_result"
    }
   ],
   "source": [
    "text = '안녕하세요???'\n",
    "text.count('?')"
   ]
  },
  {
   "cell_type": "markdown",
   "id": "ae6615bb-cb0b-4849-9fa5-756130aa2436",
   "metadata": {},
   "source": [
    "### **7. 문자 위치 찾기**\n",
    "### **`x.index('a')`**\n",
    "- x: 문자열\n",
    "- a: 찾을 문자\n",
    "- 찾는 문자가 없다면 <u>ValueError</u> 반환"
   ]
  },
  {
   "cell_type": "code",
   "execution_count": 22,
   "id": "e8d0c955-37b9-4011-b4c8-55d933000a9d",
   "metadata": {},
   "outputs": [
    {
     "data": {
      "text/plain": [
       "2"
      ]
     },
     "execution_count": 22,
     "metadata": {},
     "output_type": "execute_result"
    }
   ],
   "source": [
    "text = '안녕하세요???'\n",
    "text.index('하')"
   ]
  },
  {
   "cell_type": "markdown",
   "id": "5546ff28-1c6e-42a6-9d2a-3f1bbc69fb79",
   "metadata": {},
   "source": [
    "### **`x.find('a')`**\n",
    "- x: 문자열\n",
    "- a: 찾을 문자\n",
    "- 찾는 문자가 없다면 <u>-1</u> 반환"
   ]
  },
  {
   "cell_type": "code",
   "execution_count": 23,
   "id": "5865f1d0-8453-4b66-b356-a801c081e78f",
   "metadata": {},
   "outputs": [
    {
     "data": {
      "text/plain": [
       "2"
      ]
     },
     "execution_count": 23,
     "metadata": {},
     "output_type": "execute_result"
    }
   ],
   "source": [
    "text = '안녕하세요???'\n",
    "text.find('하')"
   ]
  },
  {
   "cell_type": "code",
   "execution_count": 24,
   "id": "89ceb1c3-382d-431d-8650-78268f25e420",
   "metadata": {},
   "outputs": [
    {
     "data": {
      "text/plain": [
       "-1"
      ]
     },
     "execution_count": 24,
     "metadata": {},
     "output_type": "execute_result"
    }
   ],
   "source": [
    "# 찾는 문자가 없는 경우\n",
    "text = '안녕하세요???'\n",
    "text.find('!')"
   ]
  },
  {
   "cell_type": "markdown",
   "id": "63d28fd6-9bc0-44a3-a877-ea8e2a75522c",
   "metadata": {},
   "source": [
    "### **8. 연결 문자 삽입**\n",
    "### **`'x'.join(iter)`**\n",
    "- x: 연결 문자\n",
    "- iter: 리스트, 튜플 등 반복 가능한 객체\n",
    "- 문자열로 반환"
   ]
  },
  {
   "cell_type": "code",
   "execution_count": 20,
   "id": "7a1d9fa3-12a0-4bbc-9a3a-043f9a8af932",
   "metadata": {},
   "outputs": [
    {
     "name": "stdout",
     "output_type": "stream",
     "text": [
      "원본:  ['blue', 'red', 'green']\n",
      "변환: blue, red, green\n",
      "원본 타입:  <class 'list'>\n",
      "변환 타입:  <class 'str'>\n"
     ]
    }
   ],
   "source": [
    "color_1 = ['blue', 'red', 'green']\n",
    "color_2 = ', '.join(color_1)\n",
    "print('원본: ', color_1)\n",
    "print('변환:', color_2)\n",
    "\n",
    "# 문자열로 반환\n",
    "print('원본 타입: ', type(color_1))\n",
    "print('변환 타입: ', type(color_2))"
   ]
  },
  {
   "cell_type": "markdown",
   "id": "ecc435c5-a876-4d8f-b544-e10ae382eecb",
   "metadata": {},
   "source": [
    "### **9. 문자열 나누기**\n",
    "### **`x.split('a')`**\n",
    "- a: 구분자\n",
    "- 구분자를 기준으로 문자열을 나눔\n",
    "- 쉼표로 나눌 땐 `', '`공백을 포함해야 함\n",
    "- 리스트로 반환"
   ]
  },
  {
   "cell_type": "code",
   "execution_count": 25,
   "id": "2f39e085-44a9-47af-9624-636a12072f57",
   "metadata": {},
   "outputs": [
    {
     "name": "stdout",
     "output_type": "stream",
     "text": [
      "원본:  blue, red, green\n",
      "변환:  ['blue', 'red', 'green']\n",
      "원본 타입:  <class 'str'>\n",
      "변환 타입:  <class 'list'>\n"
     ]
    }
   ],
   "source": [
    "color_3 = color_2.split(', ')\n",
    "print('원본: ', color_2)\n",
    "print('변환: ', color_3)\n",
    "\n",
    "# 리스트로 반환\n",
    "print('원본 타입: ', type(color_2))\n",
    "print('변환 타입: ', type(color_3))"
   ]
  },
  {
   "cell_type": "code",
   "execution_count": 27,
   "id": "56d89e33-2745-45a2-b54f-83e66cd65a60",
   "metadata": {},
   "outputs": [
    {
     "name": "stdout",
     "output_type": "stream",
     "text": [
      "photo\n",
      "png\n"
     ]
    }
   ],
   "source": [
    "# 마침표 기준으로 파일명, 확장자 분리\n",
    "filename = \"photo.png\"\n",
    "split = filename.split('.')\n",
    "\n",
    "print(split[0])\n",
    "print(split[1])"
   ]
  },
  {
   "cell_type": "markdown",
   "id": "a3c5c7cb-90ba-43f7-a5b0-c2760dea7ab7",
   "metadata": {},
   "source": [
    "### **10. 문자 포함 여부 확인**\n",
    "### **`'a' in x`, `'a' not in x`**\n",
    "- a: 찾을 문자\n",
    "- x: 검색할 문자열"
   ]
  },
  {
   "cell_type": "code",
   "execution_count": 28,
   "id": "c7560721",
   "metadata": {
    "colab": {
     "base_uri": "https://localhost:8080/"
    },
    "executionInfo": {
     "elapsed": 9,
     "status": "ok",
     "timestamp": 1743576375760,
     "user": {
      "displayName": "Kim InSeop",
      "userId": "13965062148001194946"
     },
     "user_tz": -540
    },
    "id": "c7560721",
    "outputId": "f056bda3-ed12-4cad-f52c-5baa2c340e91"
   },
   "outputs": [
    {
     "name": "stdout",
     "output_type": "stream",
     "text": [
      "True\n",
      "False\n",
      "False\n",
      "True\n"
     ]
    }
   ],
   "source": [
    "text = 'Red Apple'\n",
    "\n",
    "print('Red' in text)\n",
    "print('Blue' in text)\n",
    "\n",
    "print('Red' not in text)\n",
    "print('Blue' not in text)"
   ]
  },
  {
   "cell_type": "markdown",
   "id": "0a3084ee-8451-4a40-9216-1944d120e6d4",
   "metadata": {},
   "source": [
    "### **11. 문자열 시작과 끝 확인**\n",
    "### **`x.startswith('a')`, `x.endswith('a')`**\n",
    "- x: 문자열\n",
    "- a: 확인할 문자"
   ]
  },
  {
   "cell_type": "code",
   "execution_count": 29,
   "id": "02c2d7ec-d7a5-4eed-8f62-a16abcb5236f",
   "metadata": {},
   "outputs": [
    {
     "name": "stdout",
     "output_type": "stream",
     "text": [
      "시작 확인:  True\n",
      "끝 확인:  False\n"
     ]
    }
   ],
   "source": [
    "data = 'data_1234'\n",
    "print('시작 확인: ', data.startswith('data'))\n",
    "print('끝 확인: ', data.endswith('12345'))"
   ]
  }
 ],
 "metadata": {
  "colab": {
   "provenance": []
  },
  "kernelspec": {
   "display_name": ".venv",
   "language": "python",
   "name": "python3"
  },
  "language_info": {
   "codemirror_mode": {
    "name": "ipython",
    "version": 3
   },
   "file_extension": ".py",
   "mimetype": "text/x-python",
   "name": "python",
   "nbconvert_exporter": "python",
   "pygments_lexer": "ipython3",
   "version": "3.13.5"
  }
 },
 "nbformat": 4,
 "nbformat_minor": 5
}
